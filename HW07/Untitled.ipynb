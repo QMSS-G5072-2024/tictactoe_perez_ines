{
 "cells": [
  {
   "cell_type": "code",
   "execution_count": 1,
   "metadata": {},
   "outputs": [
    {
     "name": "stdout",
     "output_type": "stream",
     "text": [
      "Collecting cookiecutter\n",
      "  Using cached cookiecutter-2.6.0-py3-none-any.whl (39 kB)\n",
      "Requirement already satisfied: Jinja2<4.0.0,>=2.7 in /Users/inesperezalvarez-pallete/opt/anaconda3/lib/python3.7/site-packages (from cookiecutter) (2.11.1)\n",
      "Collecting arrow\n",
      "  Using cached arrow-1.2.3-py3-none-any.whl (66 kB)\n",
      "Requirement already satisfied: python-slugify>=4.0.0 in /Users/inesperezalvarez-pallete/opt/anaconda3/lib/python3.7/site-packages (from cookiecutter) (8.0.4)\n",
      "Collecting binaryornot>=0.4.4\n",
      "  Using cached binaryornot-0.4.4-py2.py3-none-any.whl (9.0 kB)\n",
      "Collecting requests>=2.23.0\n",
      "  Using cached requests-2.31.0-py3-none-any.whl (62 kB)\n",
      "Requirement already satisfied: rich in /Users/inesperezalvarez-pallete/opt/anaconda3/lib/python3.7/site-packages (from cookiecutter) (13.7.1)\n",
      "Collecting pyyaml>=5.3.1\n",
      "  Using cached PyYAML-6.0.1-cp37-cp37m-macosx_10_9_x86_64.whl (189 kB)\n",
      "Requirement already satisfied: click<9.0.0,>=7.0 in /Users/inesperezalvarez-pallete/opt/anaconda3/lib/python3.7/site-packages (from cookiecutter) (8.1.7)\n",
      "Requirement already satisfied: MarkupSafe>=0.23 in /Users/inesperezalvarez-pallete/opt/anaconda3/lib/python3.7/site-packages (from Jinja2<4.0.0,>=2.7->cookiecutter) (1.1.1)\n",
      "Requirement already satisfied: python-dateutil>=2.7.0 in /Users/inesperezalvarez-pallete/opt/anaconda3/lib/python3.7/site-packages (from arrow->cookiecutter) (2.8.1)\n",
      "Requirement already satisfied: typing-extensions; python_version < \"3.8\" in /Users/inesperezalvarez-pallete/opt/anaconda3/lib/python3.7/site-packages (from arrow->cookiecutter) (4.7.1)\n",
      "Requirement already satisfied: text-unidecode>=1.3 in /Users/inesperezalvarez-pallete/opt/anaconda3/lib/python3.7/site-packages (from python-slugify>=4.0.0->cookiecutter) (1.3)\n",
      "Requirement already satisfied: chardet>=3.0.2 in /Users/inesperezalvarez-pallete/opt/anaconda3/lib/python3.7/site-packages (from binaryornot>=0.4.4->cookiecutter) (3.0.4)\n",
      "Collecting charset-normalizer<4,>=2\n",
      "  Using cached charset_normalizer-3.4.0-cp37-cp37m-macosx_10_9_x86_64.whl (121 kB)\n",
      "Requirement already satisfied: urllib3<3,>=1.21.1 in /Users/inesperezalvarez-pallete/opt/anaconda3/lib/python3.7/site-packages (from requests>=2.23.0->cookiecutter) (1.26.20)\n",
      "Requirement already satisfied: certifi>=2017.4.17 in /Users/inesperezalvarez-pallete/opt/anaconda3/lib/python3.7/site-packages (from requests>=2.23.0->cookiecutter) (2019.11.28)\n",
      "Requirement already satisfied: idna<4,>=2.5 in /Users/inesperezalvarez-pallete/opt/anaconda3/lib/python3.7/site-packages (from requests>=2.23.0->cookiecutter) (2.8)\n",
      "Requirement already satisfied: markdown-it-py>=2.2.0 in /Users/inesperezalvarez-pallete/opt/anaconda3/lib/python3.7/site-packages (from rich->cookiecutter) (2.2.0)\n",
      "Requirement already satisfied: pygments<3.0.0,>=2.13.0 in /Users/inesperezalvarez-pallete/opt/anaconda3/lib/python3.7/site-packages (from rich->cookiecutter) (2.17.2)\n",
      "Requirement already satisfied: importlib-metadata; python_version < \"3.8\" in /Users/inesperezalvarez-pallete/opt/anaconda3/lib/python3.7/site-packages (from click<9.0.0,>=7.0->cookiecutter) (6.7.0)\n",
      "Requirement already satisfied: six>=1.5 in /Users/inesperezalvarez-pallete/opt/anaconda3/lib/python3.7/site-packages (from python-dateutil>=2.7.0->arrow->cookiecutter) (1.14.0)\n",
      "Requirement already satisfied: mdurl~=0.1 in /Users/inesperezalvarez-pallete/opt/anaconda3/lib/python3.7/site-packages (from markdown-it-py>=2.2.0->rich->cookiecutter) (0.1.2)\n",
      "Requirement already satisfied: zipp>=0.5 in /Users/inesperezalvarez-pallete/opt/anaconda3/lib/python3.7/site-packages (from importlib-metadata; python_version < \"3.8\"->click<9.0.0,>=7.0->cookiecutter) (2.2.0)\n",
      "\u001b[31mERROR: streamlit 1.23.1 has requirement packaging<24,>=14.1, but you'll have packaging 24.0 which is incompatible.\u001b[0m\n",
      "Installing collected packages: arrow, binaryornot, charset-normalizer, requests, pyyaml, cookiecutter\n",
      "\u001b[33m  WARNING: The script normalizer is installed in '/Users/inesperezalvarez-pallete/.local/bin' which is not on PATH.\n",
      "  Consider adding this directory to PATH or, if you prefer to suppress this warning, use --no-warn-script-location.\n",
      "  NOTE: The current PATH contains path(s) starting with `~`, which may not be expanded by all applications.\u001b[0m\n",
      "\u001b[33m  WARNING: The script cookiecutter is installed in '/Users/inesperezalvarez-pallete/.local/bin' which is not on PATH.\n",
      "  Consider adding this directory to PATH or, if you prefer to suppress this warning, use --no-warn-script-location.\n",
      "  NOTE: The current PATH contains path(s) starting with `~`, which may not be expanded by all applications.\u001b[0m\n",
      "Successfully installed arrow-1.2.3 binaryornot-0.4.4 charset-normalizer-3.4.0 cookiecutter-2.6.0 pyyaml-6.0.1 requests-2.31.0\n",
      "Note: you may need to restart the kernel to use updated packages.\n"
     ]
    }
   ],
   "source": [
    "pip install --user cookiecutter"
   ]
  },
  {
   "cell_type": "code",
   "execution_count": 1,
   "metadata": {},
   "outputs": [
    {
     "ename": "SyntaxError",
     "evalue": "invalid syntax (<ipython-input-1-5203fcb9491c>, line 1)",
     "output_type": "error",
     "traceback": [
      "\u001b[0;36m  File \u001b[0;32m\"<ipython-input-1-5203fcb9491c>\"\u001b[0;36m, line \u001b[0;32m1\u001b[0m\n\u001b[0;31m    cookiecutter https://github.com/py-pkgs/py-pkgs-cookiecutter.git\u001b[0m\n\u001b[0m                     ^\u001b[0m\n\u001b[0;31mSyntaxError\u001b[0m\u001b[0;31m:\u001b[0m invalid syntax\n"
     ]
    }
   ],
   "source": [
    "cookiecutter https://github.com/py-pkgs/py-pkgs-cookiecutter.git"
   ]
  },
  {
   "cell_type": "code",
   "execution_count": 6,
   "metadata": {},
   "outputs": [],
   "source": [
    "import cookiecutter\n",
    "import poetry"
   ]
  },
  {
   "cell_type": "code",
   "execution_count": 5,
   "metadata": {},
   "outputs": [
    {
     "data": {
      "text/html": [
       "<pre style=\"white-space:pre;overflow-x:auto;line-height:normal;font-family:Menlo,'DejaVu Sans Mono',consolas,'Courier New',monospace\">  <span style=\"color: #7f7f7f; text-decoration-color: #7f7f7f\">[1/7]</span> author_name <span style=\"color: #008080; text-decoration-color: #008080; font-weight: bold\">(Monty Python)</span>: </pre>\n"
      ],
      "text/plain": [
       "  \u001b[2m[1/7]\u001b[0m author_name \u001b[1;36m(Monty Python)\u001b[0m: "
      ]
     },
     "metadata": {},
     "output_type": "display_data"
    },
    {
     "name": "stdout",
     "output_type": "stream",
     "text": [
      "Ines Perez\n"
     ]
    },
    {
     "data": {
      "text/html": [
       "<pre style=\"white-space:pre;overflow-x:auto;line-height:normal;font-family:Menlo,'DejaVu Sans Mono',consolas,'Courier New',monospace\">  <span style=\"color: #7f7f7f; text-decoration-color: #7f7f7f\">[2/7]</span> package_name <span style=\"color: #008080; text-decoration-color: #008080; font-weight: bold\">(mypkg)</span>: </pre>\n"
      ],
      "text/plain": [
       "  \u001b[2m[2/7]\u001b[0m package_name \u001b[1;36m(mypkg)\u001b[0m: "
      ]
     },
     "metadata": {},
     "output_type": "display_data"
    },
    {
     "name": "stdout",
     "output_type": "stream",
     "text": [
      "tictactoe_ip2365\n"
     ]
    },
    {
     "data": {
      "text/html": [
       "<pre style=\"white-space:pre;overflow-x:auto;line-height:normal;font-family:Menlo,'DejaVu Sans Mono',consolas,'Courier New',monospace\">  <span style=\"color: #7f7f7f; text-decoration-color: #7f7f7f\">[3/7]</span> package_short_description <span style=\"color: #008080; text-decoration-color: #008080; font-weight: bold\">(A package for doing great things!)</span>: </pre>\n"
      ],
      "text/plain": [
       "  \u001b[2m[3/7]\u001b[0m package_short_description \u001b[1;36m(A package for doing great things!)\u001b[0m: "
      ]
     },
     "metadata": {},
     "output_type": "display_data"
    },
    {
     "name": "stdout",
     "output_type": "stream",
     "text": [
      "This test package is my first package! This package includes necessary functions to execute a successful game of tictactoe virtually. Functionalities here include creating a new game with a blank board, making a move on the game board, checking for a present winner, and resetting the board. Enjoy!\n"
     ]
    },
    {
     "data": {
      "text/html": [
       "<pre style=\"white-space:pre;overflow-x:auto;line-height:normal;font-family:Menlo,'DejaVu Sans Mono',consolas,'Courier New',monospace\">  <span style=\"color: #7f7f7f; text-decoration-color: #7f7f7f\">[4/7]</span> package_version <span style=\"color: #008080; text-decoration-color: #008080; font-weight: bold\">(0.1.0)</span>: </pre>\n"
      ],
      "text/plain": [
       "  \u001b[2m[4/7]\u001b[0m package_version \u001b[1;36m(0.1.0)\u001b[0m: "
      ]
     },
     "metadata": {},
     "output_type": "display_data"
    },
    {
     "name": "stdout",
     "output_type": "stream",
     "text": [
      "\n"
     ]
    },
    {
     "data": {
      "text/html": [
       "<pre style=\"white-space:pre;overflow-x:auto;line-height:normal;font-family:Menlo,'DejaVu Sans Mono',consolas,'Courier New',monospace\">  <span style=\"color: #7f7f7f; text-decoration-color: #7f7f7f\">[5/7]</span> python_version <span style=\"color: #008080; text-decoration-color: #008080; font-weight: bold\">(3.9)</span>: </pre>\n"
      ],
      "text/plain": [
       "  \u001b[2m[5/7]\u001b[0m python_version \u001b[1;36m(3.9)\u001b[0m: "
      ]
     },
     "metadata": {},
     "output_type": "display_data"
    },
    {
     "name": "stdout",
     "output_type": "stream",
     "text": [
      "\n"
     ]
    },
    {
     "data": {
      "text/html": [
       "<pre style=\"white-space:pre;overflow-x:auto;line-height:normal;font-family:Menlo,'DejaVu Sans Mono',consolas,'Courier New',monospace\">  <span style=\"color: #7f7f7f; text-decoration-color: #7f7f7f\">[6/7]</span> Select open_source_license\n",
       "    <span style=\"color: #800080; text-decoration-color: #800080; font-weight: bold\">1</span> - <span style=\"font-weight: bold\">MIT</span>\n",
       "    <span style=\"color: #800080; text-decoration-color: #800080; font-weight: bold\">2</span> - <span style=\"font-weight: bold\">Apache License 2.0</span>\n",
       "    <span style=\"color: #800080; text-decoration-color: #800080; font-weight: bold\">3</span> - <span style=\"font-weight: bold\">GNU General Public License v3.0</span>\n",
       "    <span style=\"color: #800080; text-decoration-color: #800080; font-weight: bold\">4</span> - <span style=\"font-weight: bold\">CC0 v1.0 Universal</span>\n",
       "    <span style=\"color: #800080; text-decoration-color: #800080; font-weight: bold\">5</span> - <span style=\"font-weight: bold\">BSD 3-Clause</span>\n",
       "    <span style=\"color: #800080; text-decoration-color: #800080; font-weight: bold\">6</span> - <span style=\"font-weight: bold\">Proprietary</span>\n",
       "    <span style=\"color: #800080; text-decoration-color: #800080; font-weight: bold\">7</span> - <span style=\"font-weight: bold\">None</span>\n",
       "    Choose from <span style=\"color: #800080; text-decoration-color: #800080; font-weight: bold\">[1/2/3/4/5/6/7]</span> <span style=\"color: #008080; text-decoration-color: #008080; font-weight: bold\">(1)</span>: </pre>\n"
      ],
      "text/plain": [
       "  \u001b[2m[6/7]\u001b[0m Select open_source_license\n",
       "    \u001b[1;35m1\u001b[0m - \u001b[1mMIT\u001b[0m\n",
       "    \u001b[1;35m2\u001b[0m - \u001b[1mApache License 2.0\u001b[0m\n",
       "    \u001b[1;35m3\u001b[0m - \u001b[1mGNU General Public License v3.0\u001b[0m\n",
       "    \u001b[1;35m4\u001b[0m - \u001b[1mCC0 v1.0 Universal\u001b[0m\n",
       "    \u001b[1;35m5\u001b[0m - \u001b[1mBSD 3-Clause\u001b[0m\n",
       "    \u001b[1;35m6\u001b[0m - \u001b[1mProprietary\u001b[0m\n",
       "    \u001b[1;35m7\u001b[0m - \u001b[1mNone\u001b[0m\n",
       "    Choose from \u001b[1;35m[1/2/3/4/5/6/7]\u001b[0m \u001b[1;36m(1)\u001b[0m: "
      ]
     },
     "metadata": {},
     "output_type": "display_data"
    },
    {
     "name": "stdout",
     "output_type": "stream",
     "text": [
      "1\n"
     ]
    },
    {
     "data": {
      "text/html": [
       "<pre style=\"white-space:pre;overflow-x:auto;line-height:normal;font-family:Menlo,'DejaVu Sans Mono',consolas,'Courier New',monospace\">  <span style=\"color: #7f7f7f; text-decoration-color: #7f7f7f\">[7/7]</span> Select include_github_actions\n",
       "    <span style=\"color: #800080; text-decoration-color: #800080; font-weight: bold\">1</span> - <span style=\"font-weight: bold\">no</span>\n",
       "    <span style=\"color: #800080; text-decoration-color: #800080; font-weight: bold\">2</span> - <span style=\"font-weight: bold\">ci</span>\n",
       "    <span style=\"color: #800080; text-decoration-color: #800080; font-weight: bold\">3</span> - <span style=\"font-weight: bold\">ci+cd</span>\n",
       "    Choose from <span style=\"color: #800080; text-decoration-color: #800080; font-weight: bold\">[1/2/3]</span> <span style=\"color: #008080; text-decoration-color: #008080; font-weight: bold\">(1)</span>: </pre>\n"
      ],
      "text/plain": [
       "  \u001b[2m[7/7]\u001b[0m Select include_github_actions\n",
       "    \u001b[1;35m1\u001b[0m - \u001b[1mno\u001b[0m\n",
       "    \u001b[1;35m2\u001b[0m - \u001b[1mci\u001b[0m\n",
       "    \u001b[1;35m3\u001b[0m - \u001b[1mci+cd\u001b[0m\n",
       "    Choose from \u001b[1;35m[1/2/3]\u001b[0m \u001b[1;36m(1)\u001b[0m: "
      ]
     },
     "metadata": {},
     "output_type": "display_data"
    },
    {
     "name": "stdout",
     "output_type": "stream",
     "text": [
      "3\n"
     ]
    },
    {
     "data": {
      "text/plain": [
       "'/Users/inesperezalvarez-pallete/MODERN_DATA_STRUCTURES/HW07/tictactoe_ip2365'"
      ]
     },
     "execution_count": 5,
     "metadata": {},
     "output_type": "execute_result"
    }
   ],
   "source": [
    "from cookiecutter.main import cookiecutter\n",
    "\n",
    "# Use the cookiecutter function to create a project from the template\n",
    "cookiecutter('https://github.com/py-pkgs/py-pkgs-cookiecutter.git')"
   ]
  },
  {
   "cell_type": "code",
   "execution_count": null,
   "metadata": {},
   "outputs": [],
   "source": []
  }
 ],
 "metadata": {
  "kernelspec": {
   "display_name": "Python 3",
   "language": "python",
   "name": "python3"
  },
  "language_info": {
   "codemirror_mode": {
    "name": "ipython",
    "version": 3
   },
   "file_extension": ".py",
   "mimetype": "text/x-python",
   "name": "python",
   "nbconvert_exporter": "python",
   "pygments_lexer": "ipython3",
   "version": "3.7.6"
  }
 },
 "nbformat": 4,
 "nbformat_minor": 4
}

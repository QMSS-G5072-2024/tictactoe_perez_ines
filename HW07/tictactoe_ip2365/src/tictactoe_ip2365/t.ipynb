{
 "cells": [
  {
   "cell_type": "code",
   "execution_count": 5,
   "metadata": {},
   "outputs": [
    {
     "name": "stdout",
     "output_type": "stream",
     "text": [
      "[NbConvertApp] Converting notebook t.ipynb to script\n",
      "[NbConvertApp] Writing 2267 bytes to t.py\n"
     ]
    }
   ],
   "source": [
    "from tictactoe_ip2365.tic import *\n",
    "\n",
    "import pytest\n",
    "\n",
    "\n",
    "\n",
    "def test_initialize_board():\n",
    "\n",
    "        board = initialize_board()\n",
    "        # check the board if it has 3 rows\n",
    "        assert len(board) == 3, \"we need 3 rows\"\n",
    "        # check the board if it has 3 columns\n",
    "        assert all(len(row) == 3 for row in board), \"need 3 columns per row\"\n",
    "\n",
    "        assert all(cell == ' ' for row in board for cell in row), \"error: some of the cells are not empty\"\n",
    "\n",
    "        print(\"test_initialize_board passed.\")\n",
    "\n",
    "        \"\"\"This function tests the initialize_board function to verify that it creates an empty 3x3 board.\"\"\"\n",
    "        expected = [[' ', ' ', ' '],\n",
    "                    [' ', ' ', ' '],\n",
    "                    [' ', ' ', ' ']]\n",
    "        result = initialize_board()  # Call the function\n",
    "        assert result == expected, f\"Expected {expected}, but got {result}\"\n",
    "        print(\"test_initialize_board passed.\")\n",
    "\n",
    "\n",
    "def test_make_move_valid():\n",
    "                \"\"\"This function tests the initialize_board function to verify that it creates an empty 3x3 board.\"\"\"\n",
    "\n",
    "                start_board=initialize_board()\n",
    "\n",
    "                for row in range(3):\n",
    "                    for col in range(3):\n",
    "                        success = make_move(start_board, row, col, 'X')\n",
    "                        assert success == True, f\"Move should be successful at ({row}, {col})\"\n",
    "                        assert start_board[row][col] == 'X', f\"Expected 'X' at ({row}, {col}), but got {start_board[row][col]}\"\n",
    "                start_board=initialize_board()\n",
    "                for row in range(3):\n",
    "                    for col in range(3):\n",
    "                        success = make_move(start_board, row, col, '0')\n",
    "                        assert success == True, f\"Move should be successful at ({row}, {col})\"\n",
    "                        assert start_board[row][col] == '0', f\"Expected '0' at ({row}, {col}), but got {start_board[row][col]}\"\n",
    "                print(\"WOOHOO! all requirements to make a right move have been reached\")\n"
   ]
  },
  {
   "cell_type": "code",
   "execution_count": null,
   "metadata": {},
   "outputs": [],
   "source": []
  }
 ],
 "metadata": {
  "kernelspec": {
   "display_name": "Python 3",
   "language": "python",
   "name": "python3"
  },
  "language_info": {
   "codemirror_mode": {
    "name": "ipython",
    "version": 3
   },
   "file_extension": ".py",
   "mimetype": "text/x-python",
   "name": "python",
   "nbconvert_exporter": "python",
   "pygments_lexer": "ipython3",
   "version": "3.7.6"
  }
 },
 "nbformat": 4,
 "nbformat_minor": 4
}

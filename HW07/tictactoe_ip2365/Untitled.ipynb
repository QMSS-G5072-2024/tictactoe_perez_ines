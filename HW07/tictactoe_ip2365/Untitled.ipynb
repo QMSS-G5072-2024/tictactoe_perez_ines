{
 "cells": [
  {
   "cell_type": "code",
   "execution_count": 10,
   "metadata": {},
   "outputs": [
    {
     "name": "stdout",
     "output_type": "stream",
     "text": [
      "\u001b[1m============================= test session starts ==============================\u001b[0m\n",
      "platform darwin -- Python 3.7.6, pytest-5.3.5, py-1.8.1, pluggy-0.13.1 -- /Users/inesperezalvarez-pallete/opt/anaconda3/bin/python\n",
      "cachedir: .pytest_cache\n",
      "hypothesis profile 'default' -> database=DirectoryBasedExampleDatabase('/Users/inesperezalvarez-pallete/tictactoe_perez_ines/HW07/tictactoe_ip2365/.hypothesis/examples')\n",
      "rootdir: /Users/inesperezalvarez-pallete/tictactoe_perez_ines/HW07/tictactoe_ip2365\n",
      "plugins: hypothesis-5.5.4, arraydiff-0.3, remotedata-0.3.2, openfiles-0.4.0, doctestplus-0.5.0, astropy-header-0.1.2\n",
      "collected 0 items / 1 error                                                    \u001b[0m\n",
      "\n",
      "==================================== ERRORS ====================================\n",
      "\u001b[31m\u001b[1m_______________ ERROR collecting tests/test_tictactoe_ip2365.py ________________\u001b[0m\n",
      "\u001b[31mImportError while importing test module '/Users/inesperezalvarez-pallete/tictactoe_perez_ines/HW07/tictactoe_ip2365/tests/test_tictactoe_ip2365.py'.\n",
      "Hint: make sure your test modules/packages have valid Python names.\n",
      "Traceback:\n",
      "../../../opt/anaconda3/lib/python3.7/site-packages/_pytest/python.py:493: in _importtestmodule\n",
      "    mod = self.fspath.pyimport(ensuresyspath=importmode)\n",
      "../../../opt/anaconda3/lib/python3.7/site-packages/py/_path/local.py:701: in pyimport\n",
      "    __import__(modname)\n",
      "../../../opt/anaconda3/lib/python3.7/site-packages/_pytest/assertion/rewrite.py:143: in exec_module\n",
      "    exec(co, module.__dict__)\n",
      "tests/test_tictactoe_ip2365.py:2: in <module>\n",
      "    from src.tictactoe_ip2365 import initialize_board, make_move, check_winner, reset_game\n",
      "E   ModuleNotFoundError: No module named 'src'\u001b[0m\n",
      "!!!!!!!!!!!!!!!!!!!! Interrupted: 1 error during collection !!!!!!!!!!!!!!!!!!!!\n",
      "\u001b[31m=============================== \u001b[31m\u001b[1m1 error\u001b[0m\u001b[31m in 0.22s\u001b[0m\u001b[31m ===============================\u001b[0m\n"
     ]
    }
   ],
   "source": [
    "!pytest -vv\n"
   ]
  },
  {
   "cell_type": "code",
   "execution_count": null,
   "metadata": {},
   "outputs": [],
   "source": []
  }
 ],
 "metadata": {
  "kernelspec": {
   "display_name": "Python 3",
   "language": "python",
   "name": "python3"
  },
  "language_info": {
   "codemirror_mode": {
    "name": "ipython",
    "version": 3
   },
   "file_extension": ".py",
   "mimetype": "text/x-python",
   "name": "python",
   "nbconvert_exporter": "python",
   "pygments_lexer": "ipython3",
   "version": "3.7.6"
  }
 },
 "nbformat": 4,
 "nbformat_minor": 4
}
